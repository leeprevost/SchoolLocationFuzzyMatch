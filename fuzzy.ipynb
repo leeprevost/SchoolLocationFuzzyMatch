{
 "cells": [
  {
   "cell_type": "markdown",
   "metadata": {},
   "source": [
    "Questions:\n",
    "1. 10 rows in sample file don't have EducationID (see rows 614-623). Should I drop it? Or is it special case? \n",
    "2. Which field of database have to match EducationID? (First halfs of EducationID are: \n",
    "'500', '502', '503', '504', '505', '506', '507', '508', '509', '510', '511', '512', '513', '514'\n",
    "3. Can I rely on State code instead?\n",
    "4. Should I add data files (both for Source List and goverment database to github repo? Now it is stored in directory 'Data' with gitignore mark."
   ]
  },
  {
   "cell_type": "code",
   "execution_count": 13,
   "metadata": {},
   "outputs": [],
   "source": [
    "import numpy as np\n",
    "import pandas as pd\n",
    "import string\n",
    "import os\n",
    "\n",
    "from fuzzywuzzy import fuzz\n",
    "from fuzzywuzzy import process\n",
    "\n",
    "DATA_DIR = 'Data/'"
   ]
  },
  {
   "cell_type": "markdown",
   "metadata": {},
   "source": [
    "# Read data"
   ]
  },
  {
   "cell_type": "code",
   "execution_count": 2,
   "metadata": {},
   "outputs": [
    {
     "name": "stdout",
     "output_type": "stream",
     "text": [
      "(1846, 23)\n"
     ]
    },
    {
     "data": {
      "text/html": [
       "<div>\n",
       "<style scoped>\n",
       "    .dataframe tbody tr th:only-of-type {\n",
       "        vertical-align: middle;\n",
       "    }\n",
       "\n",
       "    .dataframe tbody tr th {\n",
       "        vertical-align: top;\n",
       "    }\n",
       "\n",
       "    .dataframe thead th {\n",
       "        text-align: right;\n",
       "    }\n",
       "</style>\n",
       "<table border=\"1\" class=\"dataframe\">\n",
       "  <thead>\n",
       "    <tr style=\"text-align: right;\">\n",
       "      <th></th>\n",
       "      <th>un_loc</th>\n",
       "      <th>LociD</th>\n",
       "      <th>DudeAccountNumber</th>\n",
       "      <th>SalesForceAccountID</th>\n",
       "      <th>EducationID</th>\n",
       "      <th>ClientName</th>\n",
       "      <th>SchoolDudeReference</th>\n",
       "      <th>PhoneNumber</th>\n",
       "      <th>Address1</th>\n",
       "      <th>City</th>\n",
       "      <th>...</th>\n",
       "      <th>Market</th>\n",
       "      <th>Industry</th>\n",
       "      <th>StudentCount</th>\n",
       "      <th>LocDesc</th>\n",
       "      <th>LocSquareFootage</th>\n",
       "      <th>LocationZip</th>\n",
       "      <th>Zipnum</th>\n",
       "      <th>COUNTYNM</th>\n",
       "      <th>County</th>\n",
       "      <th>Regions</th>\n",
       "    </tr>\n",
       "  </thead>\n",
       "  <tbody>\n",
       "    <tr>\n",
       "      <th>0</th>\n",
       "      <td>397758056-9.0</td>\n",
       "      <td>9.0</td>\n",
       "      <td>397758056</td>\n",
       "      <td>001000000034cEeAAI</td>\n",
       "      <td>500026.0</td>\n",
       "      <td>Pine Bluff School District</td>\n",
       "      <td>0</td>\n",
       "      <td>(870) 543-4200</td>\n",
       "      <td>512 Pine Street</td>\n",
       "      <td>Pine Bluff</td>\n",
       "      <td>...</td>\n",
       "      <td>Education</td>\n",
       "      <td>Education</td>\n",
       "      <td>4944</td>\n",
       "      <td>Pine Bluff High School</td>\n",
       "      <td>279283.0</td>\n",
       "      <td>NaN</td>\n",
       "      <td>71601</td>\n",
       "      <td>Jefferson</td>\n",
       "      <td>Jefferson</td>\n",
       "      <td>Timberlands</td>\n",
       "    </tr>\n",
       "    <tr>\n",
       "      <th>1</th>\n",
       "      <td>397758056-10.0</td>\n",
       "      <td>10.0</td>\n",
       "      <td>397758056</td>\n",
       "      <td>001000000034cEeAAI</td>\n",
       "      <td>500026.0</td>\n",
       "      <td>Pine Bluff School District</td>\n",
       "      <td>0</td>\n",
       "      <td>(870) 543-4200</td>\n",
       "      <td>512 Pine Street</td>\n",
       "      <td>Pine Bluff</td>\n",
       "      <td>...</td>\n",
       "      <td>Education</td>\n",
       "      <td>Education</td>\n",
       "      <td>4944</td>\n",
       "      <td>Jack Robey Jr. High School</td>\n",
       "      <td>115073.0</td>\n",
       "      <td>NaN</td>\n",
       "      <td>71601</td>\n",
       "      <td>Jefferson</td>\n",
       "      <td>Jefferson</td>\n",
       "      <td>Timberlands</td>\n",
       "    </tr>\n",
       "    <tr>\n",
       "      <th>2</th>\n",
       "      <td>397758056-7.0</td>\n",
       "      <td>7.0</td>\n",
       "      <td>397758056</td>\n",
       "      <td>001000000034cEeAAI</td>\n",
       "      <td>500026.0</td>\n",
       "      <td>Pine Bluff School District</td>\n",
       "      <td>0</td>\n",
       "      <td>(870) 543-4200</td>\n",
       "      <td>512 Pine Street</td>\n",
       "      <td>Pine Bluff</td>\n",
       "      <td>...</td>\n",
       "      <td>Education</td>\n",
       "      <td>Education</td>\n",
       "      <td>4944</td>\n",
       "      <td>W. T. Cheney Elementary School</td>\n",
       "      <td>59942.0</td>\n",
       "      <td>NaN</td>\n",
       "      <td>71601</td>\n",
       "      <td>Jefferson</td>\n",
       "      <td>Jefferson</td>\n",
       "      <td>Timberlands</td>\n",
       "    </tr>\n",
       "    <tr>\n",
       "      <th>1843</th>\n",
       "      <td>465761140-14724.0</td>\n",
       "      <td>14724.0</td>\n",
       "      <td>465761140</td>\n",
       "      <td>00100000004DIavAAG</td>\n",
       "      <td>513680.0</td>\n",
       "      <td>Waldron Public Schools</td>\n",
       "      <td>0</td>\n",
       "      <td>(479) 637-3179</td>\n",
       "      <td>1560 W. Sixth St.</td>\n",
       "      <td>Waldron</td>\n",
       "      <td>...</td>\n",
       "      <td>Education</td>\n",
       "      <td>Education</td>\n",
       "      <td>1730</td>\n",
       "      <td>ZZ Do Not Use All Locations</td>\n",
       "      <td>0.0</td>\n",
       "      <td>NaN</td>\n",
       "      <td>72958</td>\n",
       "      <td>Scott</td>\n",
       "      <td>Scott</td>\n",
       "      <td>Ouachitas</td>\n",
       "    </tr>\n",
       "    <tr>\n",
       "      <th>1844</th>\n",
       "      <td>465761140-14720.0</td>\n",
       "      <td>14720.0</td>\n",
       "      <td>465761140</td>\n",
       "      <td>00100000004DIavAAG</td>\n",
       "      <td>513680.0</td>\n",
       "      <td>Waldron Public Schools</td>\n",
       "      <td>0</td>\n",
       "      <td>(479) 637-3179</td>\n",
       "      <td>1560 W. Sixth St.</td>\n",
       "      <td>Waldron</td>\n",
       "      <td>...</td>\n",
       "      <td>Education</td>\n",
       "      <td>Education</td>\n",
       "      <td>1730</td>\n",
       "      <td>Elementary School Campus</td>\n",
       "      <td>99312.0</td>\n",
       "      <td>NaN</td>\n",
       "      <td>72958</td>\n",
       "      <td>Scott</td>\n",
       "      <td>Scott</td>\n",
       "      <td>Ouachitas</td>\n",
       "    </tr>\n",
       "    <tr>\n",
       "      <th>1845</th>\n",
       "      <td>465761140-14719.0</td>\n",
       "      <td>14719.0</td>\n",
       "      <td>465761140</td>\n",
       "      <td>00100000004DIavAAG</td>\n",
       "      <td>513680.0</td>\n",
       "      <td>Waldron Public Schools</td>\n",
       "      <td>0</td>\n",
       "      <td>(479) 637-3179</td>\n",
       "      <td>1560 W. Sixth St.</td>\n",
       "      <td>Waldron</td>\n",
       "      <td>...</td>\n",
       "      <td>Education</td>\n",
       "      <td>Education</td>\n",
       "      <td>1730</td>\n",
       "      <td>Middle School Campus</td>\n",
       "      <td>96834.0</td>\n",
       "      <td>NaN</td>\n",
       "      <td>72958</td>\n",
       "      <td>Scott</td>\n",
       "      <td>Scott</td>\n",
       "      <td>Ouachitas</td>\n",
       "    </tr>\n",
       "  </tbody>\n",
       "</table>\n",
       "<p>6 rows × 23 columns</p>\n",
       "</div>"
      ],
      "text/plain": [
       "                 un_loc    LociD  DudeAccountNumber SalesForceAccountID  \\\n",
       "0         397758056-9.0      9.0          397758056  001000000034cEeAAI   \n",
       "1        397758056-10.0     10.0          397758056  001000000034cEeAAI   \n",
       "2         397758056-7.0      7.0          397758056  001000000034cEeAAI   \n",
       "1843  465761140-14724.0  14724.0          465761140  00100000004DIavAAG   \n",
       "1844  465761140-14720.0  14720.0          465761140  00100000004DIavAAG   \n",
       "1845  465761140-14719.0  14719.0          465761140  00100000004DIavAAG   \n",
       "\n",
       "      EducationID                  ClientName  SchoolDudeReference  \\\n",
       "0        500026.0  Pine Bluff School District                    0   \n",
       "1        500026.0  Pine Bluff School District                    0   \n",
       "2        500026.0  Pine Bluff School District                    0   \n",
       "1843     513680.0      Waldron Public Schools                    0   \n",
       "1844     513680.0      Waldron Public Schools                    0   \n",
       "1845     513680.0      Waldron Public Schools                    0   \n",
       "\n",
       "         PhoneNumber           Address1        City     ...          Market  \\\n",
       "0     (870) 543-4200    512 Pine Street  Pine Bluff     ...       Education   \n",
       "1     (870) 543-4200    512 Pine Street  Pine Bluff     ...       Education   \n",
       "2     (870) 543-4200    512 Pine Street  Pine Bluff     ...       Education   \n",
       "1843  (479) 637-3179  1560 W. Sixth St.     Waldron     ...       Education   \n",
       "1844  (479) 637-3179  1560 W. Sixth St.     Waldron     ...       Education   \n",
       "1845  (479) 637-3179  1560 W. Sixth St.     Waldron     ...       Education   \n",
       "\n",
       "       Industry StudentCount                         LocDesc LocSquareFootage  \\\n",
       "0     Education         4944          Pine Bluff High School         279283.0   \n",
       "1     Education         4944      Jack Robey Jr. High School         115073.0   \n",
       "2     Education         4944  W. T. Cheney Elementary School          59942.0   \n",
       "1843  Education         1730     ZZ Do Not Use All Locations              0.0   \n",
       "1844  Education         1730        Elementary School Campus          99312.0   \n",
       "1845  Education         1730            Middle School Campus          96834.0   \n",
       "\n",
       "      LocationZip Zipnum   COUNTYNM     County      Regions  \n",
       "0             NaN  71601  Jefferson  Jefferson  Timberlands  \n",
       "1             NaN  71601  Jefferson  Jefferson  Timberlands  \n",
       "2             NaN  71601  Jefferson  Jefferson  Timberlands  \n",
       "1843          NaN  72958      Scott      Scott    Ouachitas  \n",
       "1844          NaN  72958      Scott      Scott    Ouachitas  \n",
       "1845          NaN  72958      Scott      Scott    Ouachitas  \n",
       "\n",
       "[6 rows x 23 columns]"
      ]
     },
     "execution_count": 2,
     "metadata": {},
     "output_type": "execute_result"
    }
   ],
   "source": [
    "df = pd.read_csv(os.path.join(DATA_DIR, 'AR_un_locations.csv'))\n",
    "print(df.shape)\n",
    "pd.concat((df.head(3), df.tail(3)), axis=0)"
   ]
  },
  {
   "cell_type": "code",
   "execution_count": 3,
   "metadata": {},
   "outputs": [
    {
     "name": "stdout",
     "output_type": "stream",
     "text": [
      "<class 'pandas.core.frame.DataFrame'>\n",
      "RangeIndex: 1846 entries, 0 to 1845\n",
      "Data columns (total 23 columns):\n",
      "un_loc                 1846 non-null object\n",
      "LociD                  1800 non-null float64\n",
      "DudeAccountNumber      1846 non-null int64\n",
      "SalesForceAccountID    1846 non-null object\n",
      "EducationID            1836 non-null float64\n",
      "ClientName             1846 non-null object\n",
      "SchoolDudeReference    1846 non-null int64\n",
      "PhoneNumber            1846 non-null object\n",
      "Address1               1846 non-null object\n",
      "City                   1846 non-null object\n",
      "State                  1846 non-null object\n",
      "ZipCode                1846 non-null object\n",
      "Country                1846 non-null object\n",
      "Market                 1846 non-null object\n",
      "Industry               1846 non-null object\n",
      "StudentCount           1846 non-null int64\n",
      "LocDesc                1799 non-null object\n",
      "LocSquareFootage       1780 non-null float64\n",
      "LocationZip            0 non-null float64\n",
      "Zipnum                 1846 non-null int64\n",
      "COUNTYNM               1846 non-null object\n",
      "County                 1821 non-null object\n",
      "Regions                1821 non-null object\n",
      "dtypes: float64(4), int64(4), object(15)\n",
      "memory usage: 331.8+ KB\n"
     ]
    }
   ],
   "source": [
    "df.info()"
   ]
  },
  {
   "cell_type": "code",
   "execution_count": 3,
   "metadata": {},
   "outputs": [
    {
     "name": "stdout",
     "output_type": "stream",
     "text": [
      "(1836, 23)\n"
     ]
    }
   ],
   "source": [
    "df.dropna(axis=0, how='any', subset=['EducationID'], inplace=True)\n",
    "print(df.shape)"
   ]
  },
  {
   "cell_type": "code",
   "execution_count": 5,
   "metadata": {},
   "outputs": [
    {
     "data": {
      "text/plain": [
       "Index(['un_loc', 'LociD', 'DudeAccountNumber', 'SalesForceAccountID',\n",
       "       'EducationID', 'ClientName', 'SchoolDudeReference', 'PhoneNumber',\n",
       "       'Address1', 'City', 'State', 'ZipCode', 'Country', 'Market', 'Industry',\n",
       "       'StudentCount', 'LocDesc', 'LocSquareFootage', 'LocationZip', 'Zipnum',\n",
       "       'COUNTYNM', 'County', 'Regions'],\n",
       "      dtype='object')"
      ]
     },
     "execution_count": 5,
     "metadata": {},
     "output_type": "execute_result"
    }
   ],
   "source": [
    "df.columns"
   ]
  },
  {
   "attachments": {
    "image.png": {
     "image/png": "[encoded data removed]"
    }
   },
   "cell_type": "markdown",
   "metadata": {},
   "source": [
    "![image.png](attachment:image.png)"
   ]
  },
  {
   "attachments": {
    "image.png": {
     "image/png": "[encoded data removed]"
    }
   },
   "cell_type": "markdown",
   "metadata": {},
   "source": [
    "![image.png](attachment:image.png)"
   ]
  },
  {
   "cell_type": "code",
   "execution_count": 4,
   "metadata": {},
   "outputs": [
    {
     "name": "stdout",
     "output_type": "stream",
     "text": [
      "(102209, 24)\n"
     ]
    },
    {
     "data": {
      "text/html": [
       "<div>\n",
       "<style scoped>\n",
       "    .dataframe tbody tr th:only-of-type {\n",
       "        vertical-align: middle;\n",
       "    }\n",
       "\n",
       "    .dataframe tbody tr th {\n",
       "        vertical-align: top;\n",
       "    }\n",
       "\n",
       "    .dataframe thead th {\n",
       "        text-align: right;\n",
       "    }\n",
       "</style>\n",
       "<table border=\"1\" class=\"dataframe\">\n",
       "  <thead>\n",
       "    <tr style=\"text-align: right;\">\n",
       "      <th></th>\n",
       "      <th>NCESSCH</th>\n",
       "      <th>NAME</th>\n",
       "      <th>OPSTFIPS</th>\n",
       "      <th>LSTREE</th>\n",
       "      <th>LCITY</th>\n",
       "      <th>LSTATE</th>\n",
       "      <th>LZIP</th>\n",
       "      <th>LZIP4</th>\n",
       "      <th>STFIP15</th>\n",
       "      <th>CNTY15</th>\n",
       "      <th>...</th>\n",
       "      <th>CBSA15</th>\n",
       "      <th>NMCBSA15</th>\n",
       "      <th>CBSATYPE15</th>\n",
       "      <th>CSA15</th>\n",
       "      <th>NMCSA15</th>\n",
       "      <th>NECTA15</th>\n",
       "      <th>NMNECTA15</th>\n",
       "      <th>CD15</th>\n",
       "      <th>SLDL15</th>\n",
       "      <th>SLDU15</th>\n",
       "    </tr>\n",
       "  </thead>\n",
       "  <tbody>\n",
       "    <tr>\n",
       "      <th>0</th>\n",
       "      <td>10000200277</td>\n",
       "      <td>Sequoyah Sch - Chalkville Campus</td>\n",
       "      <td>1</td>\n",
       "      <td>1000 Industrial School Road</td>\n",
       "      <td>Birmingham</td>\n",
       "      <td>AL</td>\n",
       "      <td>35220</td>\n",
       "      <td>M</td>\n",
       "      <td>01</td>\n",
       "      <td>01073</td>\n",
       "      <td>...</td>\n",
       "      <td>13820</td>\n",
       "      <td>Birmingham-Hoover, AL</td>\n",
       "      <td>1</td>\n",
       "      <td>142</td>\n",
       "      <td>Birmingham-Hoover-Talladega, AL</td>\n",
       "      <td>N</td>\n",
       "      <td>N</td>\n",
       "      <td>0106</td>\n",
       "      <td>044</td>\n",
       "      <td>020</td>\n",
       "    </tr>\n",
       "    <tr>\n",
       "      <th>1</th>\n",
       "      <td>10000201667</td>\n",
       "      <td>Camps</td>\n",
       "      <td>1</td>\n",
       "      <td>1601 County Rd. 57</td>\n",
       "      <td>Prattville</td>\n",
       "      <td>AL</td>\n",
       "      <td>36067</td>\n",
       "      <td>M</td>\n",
       "      <td>01</td>\n",
       "      <td>01001</td>\n",
       "      <td>...</td>\n",
       "      <td>33860</td>\n",
       "      <td>Montgomery, AL</td>\n",
       "      <td>1</td>\n",
       "      <td>N</td>\n",
       "      <td>N</td>\n",
       "      <td>N</td>\n",
       "      <td>N</td>\n",
       "      <td>0102</td>\n",
       "      <td>042</td>\n",
       "      <td>030</td>\n",
       "    </tr>\n",
       "    <tr>\n",
       "      <th>2</th>\n",
       "      <td>10000201670</td>\n",
       "      <td>Det Ctr</td>\n",
       "      <td>1</td>\n",
       "      <td>2109 Bashi Rd Bldg 509</td>\n",
       "      <td>Thomasville</td>\n",
       "      <td>AL</td>\n",
       "      <td>36784</td>\n",
       "      <td>M</td>\n",
       "      <td>01</td>\n",
       "      <td>01025</td>\n",
       "      <td>...</td>\n",
       "      <td>N</td>\n",
       "      <td>N</td>\n",
       "      <td>N</td>\n",
       "      <td>N</td>\n",
       "      <td>N</td>\n",
       "      <td>N</td>\n",
       "      <td>N</td>\n",
       "      <td>0107</td>\n",
       "      <td>068</td>\n",
       "      <td>024</td>\n",
       "    </tr>\n",
       "    <tr>\n",
       "      <th>102206</th>\n",
       "      <td>780003000027</td>\n",
       "      <td>YVONNE BOWSKY ELEMENTARY SCHOOL</td>\n",
       "      <td>78</td>\n",
       "      <td>15B and 16 ESTATE MANDAHL</td>\n",
       "      <td>Saint Thomas</td>\n",
       "      <td>VI</td>\n",
       "      <td>00802</td>\n",
       "      <td>M</td>\n",
       "      <td>78</td>\n",
       "      <td>78030</td>\n",
       "      <td>...</td>\n",
       "      <td>N</td>\n",
       "      <td>N</td>\n",
       "      <td>N</td>\n",
       "      <td>N</td>\n",
       "      <td>N</td>\n",
       "      <td>N</td>\n",
       "      <td>N</td>\n",
       "      <td>7898</td>\n",
       "      <td>N</td>\n",
       "      <td>N</td>\n",
       "    </tr>\n",
       "    <tr>\n",
       "      <th>102207</th>\n",
       "      <td>780003000033</td>\n",
       "      <td>CANCRYN JUNIOR HIGH SCHOOL</td>\n",
       "      <td>78</td>\n",
       "      <td>1 CROWN BAY</td>\n",
       "      <td>Saint Thomas</td>\n",
       "      <td>VI</td>\n",
       "      <td>00804</td>\n",
       "      <td>M</td>\n",
       "      <td>78</td>\n",
       "      <td>78030</td>\n",
       "      <td>...</td>\n",
       "      <td>N</td>\n",
       "      <td>N</td>\n",
       "      <td>N</td>\n",
       "      <td>N</td>\n",
       "      <td>N</td>\n",
       "      <td>N</td>\n",
       "      <td>N</td>\n",
       "      <td>7898</td>\n",
       "      <td>N</td>\n",
       "      <td>N</td>\n",
       "    </tr>\n",
       "    <tr>\n",
       "      <th>102208</th>\n",
       "      <td>780003000034</td>\n",
       "      <td>BERTHA BOSCHULTE JUNIOR HIGH</td>\n",
       "      <td>78</td>\n",
       "      <td>9 1 and 12A BOVONI</td>\n",
       "      <td>Saint Thomas</td>\n",
       "      <td>VI</td>\n",
       "      <td>00802</td>\n",
       "      <td>M</td>\n",
       "      <td>78</td>\n",
       "      <td>78030</td>\n",
       "      <td>...</td>\n",
       "      <td>N</td>\n",
       "      <td>N</td>\n",
       "      <td>N</td>\n",
       "      <td>N</td>\n",
       "      <td>N</td>\n",
       "      <td>N</td>\n",
       "      <td>N</td>\n",
       "      <td>7898</td>\n",
       "      <td>N</td>\n",
       "      <td>N</td>\n",
       "    </tr>\n",
       "  </tbody>\n",
       "</table>\n",
       "<p>6 rows × 24 columns</p>\n",
       "</div>"
      ],
      "text/plain": [
       "             NCESSCH                              NAME  OPSTFIPS  \\\n",
       "0        10000200277  Sequoyah Sch - Chalkville Campus         1   \n",
       "1        10000201667                             Camps         1   \n",
       "2        10000201670                           Det Ctr         1   \n",
       "102206  780003000027   YVONNE BOWSKY ELEMENTARY SCHOOL        78   \n",
       "102207  780003000033        CANCRYN JUNIOR HIGH SCHOOL        78   \n",
       "102208  780003000034      BERTHA BOSCHULTE JUNIOR HIGH        78   \n",
       "\n",
       "                             LSTREE         LCITY LSTATE   LZIP LZIP4 STFIP15  \\\n",
       "0       1000 Industrial School Road    Birmingham     AL  35220     M      01   \n",
       "1                1601 County Rd. 57    Prattville     AL  36067     M      01   \n",
       "2            2109 Bashi Rd Bldg 509   Thomasville     AL  36784     M      01   \n",
       "102206    15B and 16 ESTATE MANDAHL  Saint Thomas     VI  00802     M      78   \n",
       "102207                  1 CROWN BAY  Saint Thomas     VI  00804     M      78   \n",
       "102208           9 1 and 12A BOVONI  Saint Thomas     VI  00802     M      78   \n",
       "\n",
       "       CNTY15  ...   CBSA15               NMCBSA15  CBSATYPE15  CSA15  \\\n",
       "0       01073  ...    13820  Birmingham-Hoover, AL           1    142   \n",
       "1       01001  ...    33860         Montgomery, AL           1      N   \n",
       "2       01025  ...        N                      N           N      N   \n",
       "102206  78030  ...        N                      N           N      N   \n",
       "102207  78030  ...        N                      N           N      N   \n",
       "102208  78030  ...        N                      N           N      N   \n",
       "\n",
       "                                NMCSA15 NECTA15 NMNECTA15  CD15 SLDL15 SLDU15  \n",
       "0       Birmingham-Hoover-Talladega, AL       N         N  0106    044    020  \n",
       "1                                     N       N         N  0102    042    030  \n",
       "2                                     N       N         N  0107    068    024  \n",
       "102206                                N       N         N  7898      N      N  \n",
       "102207                                N       N         N  7898      N      N  \n",
       "102208                                N       N         N  7898      N      N  \n",
       "\n",
       "[6 rows x 24 columns]"
      ]
     },
     "execution_count": 4,
     "metadata": {},
     "output_type": "execute_result"
    }
   ],
   "source": [
    "db = pd.read_excel(os.path.join(DATA_DIR, 'EDGE_GEOCODE_PUBLICSCH_1516.xlsx'))\n",
    "db.NCESSCH = db.NCESSCH.astype(str)\n",
    "print(db.shape)\n",
    "pd.concat((db.head(3), db.tail(3)), axis=0)"
   ]
  },
  {
   "cell_type": "code",
   "execution_count": 5,
   "metadata": {},
   "outputs": [
    {
     "name": "stdout",
     "output_type": "stream",
     "text": [
      "<class 'pandas.core.frame.DataFrame'>\n",
      "RangeIndex: 102209 entries, 0 to 102208\n",
      "Data columns (total 24 columns):\n",
      "NCESSCH       102209 non-null object\n",
      "NAME          102209 non-null object\n",
      "OPSTFIPS      102209 non-null int64\n",
      "LSTREE        102209 non-null object\n",
      "LCITY         102209 non-null object\n",
      "LSTATE        102209 non-null object\n",
      "LZIP          102209 non-null object\n",
      "LZIP4         102209 non-null object\n",
      "STFIP15       102209 non-null object\n",
      "CNTY15        102209 non-null object\n",
      "NMCNTY15      102209 non-null object\n",
      "LOCALE15      102209 non-null object\n",
      "LAT1516       102209 non-null float64\n",
      "LON1516       102209 non-null float64\n",
      "CBSA15        102209 non-null object\n",
      "NMCBSA15      102209 non-null object\n",
      "CBSATYPE15    102209 non-null object\n",
      "CSA15         102209 non-null object\n",
      "NMCSA15       102209 non-null object\n",
      "NECTA15       102209 non-null object\n",
      "NMNECTA15     102209 non-null object\n",
      "CD15          102209 non-null object\n",
      "SLDL15        102209 non-null object\n",
      "SLDU15        102209 non-null object\n",
      "dtypes: float64(2), int64(1), object(21)\n",
      "memory usage: 18.7+ MB\n"
     ]
    }
   ],
   "source": [
    "db.info()"
   ]
  },
  {
   "cell_type": "markdown",
   "metadata": {},
   "source": [
    "# Match EducationID to NCESSCH (CCD Unique School Identifier)"
   ]
  },
  {
   "cell_type": "code",
   "execution_count": 6,
   "metadata": {},
   "outputs": [
    {
     "name": "stdout",
     "output_type": "stream",
     "text": [
      "(231,)\n",
      "6    1836\n",
      "Name: EducationID, dtype: int64\n"
     ]
    },
    {
     "data": {
      "text/plain": [
       "array(['500026', '514140', '505410', '513930', '504800', '505170',\n",
       "       '505500', '500042', '507710', '508640', '509630', '509840',\n",
       "       '505470', '500067', '514400', '500028', '500006', '507290',\n",
       "       '506060', '500032', '511220', '505680', '507110', '507230',\n",
       "       '508340', '500044', '512510', '512930', '512630', '507840',\n",
       "       '502580', '503300', '500049', '505340', '506240', '506360',\n",
       "       '507860', '500065', '509780', '510380', '504110', '513110',\n",
       "       '511820', '500030', '506420', '508670', '504860', '507890',\n",
       "       '506690', '502430', '503240', '510980', '507920', '500073',\n",
       "       '509750', '510170', '509990', '510320', '503770', '508610',\n",
       "       '500405', '502670', '502700', '502790', '502880', '512570',\n",
       "       '507320', '505580', '502960', '503480', '503630', '503690',\n",
       "       '503750', '503960', '510410', '504350', '504410', '504590',\n",
       "       '505190', '500001', '505850', '506900', '507140', '514370',\n",
       "       '507530', '514040', '504170', '509060', '509600', '509240',\n",
       "       '509190', '506630', '509540', '512520', '510080', '500023',\n",
       "       '510680', '511070', '511340', '511730', '511880', '512000',\n",
       "       '512210', '508400', '500015', '512420', '512960', '513530',\n",
       "       '509000', '511850', '508040', '502550', '502730', '503320',\n",
       "       '500029', '507740', '505550', '506270', '507680', '500062',\n",
       "       '500048', '509360', '509390', '509420', '509510', '510950',\n",
       "       '500051', '500045', '514430', '508280', '510440', '504020',\n",
       "       '513380', '502820', '503640', '500009', '507350', '507990',\n",
       "       '512480', '500012', '500046', '500016', '509570', '503710',\n",
       "       '500017', '513080', '511370', '511610', '504370', '500071',\n",
       "       '500047', '513230', '500082', '512540', '500019', '500021',\n",
       "       '503840', '504050', '504560', '507770', '507560', '509270',\n",
       "       '509720', '500070', '500020', '512090', '513560', '507380',\n",
       "       '502280', '503090', '503150', '504680', '500072', '505970',\n",
       "       '506150', '506870', '508240', '503420', '509480', '500043',\n",
       "       '510560', '510920', '500076', '513350', '514490', '506120',\n",
       "       '503060', '504980', '505760', '506090', '506540', '506840',\n",
       "       '506930', '508130', '508940', '503030', '511760', '511970',\n",
       "       '512450', '512660', '514010', '512060', '502610', '504380',\n",
       "       '504890', '504930', '505430', '514020', '500041', '507620',\n",
       "       '508700', '511130', '500079', '511700', '512180', '506330',\n",
       "       '502250', '503450', '504740', '504080', '504200', '506990',\n",
       "       '507170', '508730', '509150', '509330', '510260', '510290',\n",
       "       '511010', '513410', '513680'], dtype=object)"
      ]
     },
     "execution_count": 6,
     "metadata": {},
     "output_type": "execute_result"
    }
   ],
   "source": [
    "print(df.EducationID.unique().shape)\n",
    "df.EducationID = df.EducationID.astype(str)\n",
    "df.EducationID = df.EducationID.map(lambda s: s[:-2] if s[-2:]==\".0\" else s)\n",
    "print(df.EducationID.str.len().value_counts())\n",
    "df.EducationID.unique()"
   ]
  },
  {
   "cell_type": "code",
   "execution_count": 7,
   "metadata": {},
   "outputs": [
    {
     "name": "stdout",
     "output_type": "stream",
     "text": [
      "(1030, 24)\n"
     ]
    }
   ],
   "source": [
    "education_ids = set(df.EducationID.unique())\n",
    "db_district = db[db.NCESSCH.str[0:6].isin(education_ids)]\n",
    "print(db_district.shape)"
   ]
  },
  {
   "cell_type": "code",
   "execution_count": 31,
   "metadata": {},
   "outputs": [
    {
     "name": "stdout",
     "output_type": "stream",
     "text": [
      "['05456', '71254', '71601', '71602', '71603', '71633', '71635', '71638', '71639', '71640', '71646', '71647', '71652', '71653', '71654', '71655', '71665', '71667', '71671', '71676', '71701', '71720', '71730', '71743', '71744', '71749', '71753', '71759', '71762', '71763', '71765', '71771', '71801', '71822', '71825', '71832', '71833', '71836', '71837', '71842', '71845', '71851', '71852', '71854', '71857', '71858', '71860', '71875', '71901', '71913', '71921', '71923', '71929', '71937', '71940', '71941', '71943', '71949', '71953', '71956', '71957', '71958', '71960', '71961', '71964', '71971', '71972', '71973', '72002', '72006', '72010', '72011', '72012', '72013', '72015', '72016', '72020', '72021', '72022', '72023', '72024', '72027', '72029', '72031', '72032', '72034', '72040', '72042', '72046', '72047', '72053', '72055', '72058', '72061', '72063', '72064', '72067', '72076', '72081', '72082', '72086', '72101', '72103', '72104', '72106', '72110', '72111', '72112', '72113', '72114', '72116', '72117', '72118', '72120', '72121', '72122', '72126', '72128', '72131', '72132', '72137', '72142', '72143', '72150', '72153', '72160', '72173', '72176', '72202', '72204', '72205', '72206', '72207', '72209', '72210', '72211', '72212', '72223', '72301', '72310', '72312', '72315', '72324', '72331', '72335', '72342', '72354', '72359', '72360', '72364', '72365', '72366', '72370', '72372', '72386', '72390', '72395', '72396', '72401', '72404', '72411', '72417', '72419', '72422', '72432', '72433', '72434', '72437', '72438', '72440', '72442', '72443', '72444', '72447', '72450', '72454', '72455', '72461', '72469', '72471', '72472', '72473', '72476', '72479', '72501', '72517', '72519', '72521', '72522', '72523', '72534', '72542', '72543', '72554', '72556', '72561', '72562', '72568', '72576', '72579', '72583', '72584', '72601', '72611', '72616', '72626', '72628', '72632', '72633', '72634', '72638', '72641', '72644', '72645', '72650', '72653', '72655', '72658', '72662', '72675', '72682', '72685', '72687', '72701', '72702', '72703', '72704', '72712', '72713', '72714', '72719', '72722', '72727', '72730', '72732', '72734', '72736', '72737', '72740', '72742', '72744', '72745', '72751', '72753', '72756', '72758', '72760', '72761', '72762', '72764', '72774', '72801', '72802', '72811', '72821', '72823', '72824', '72830', '72832', '72833', '72834', '72837', '72840', '72842', '72843', '72846', '72847', '72852', '72853', '72855', '72858', '72863', '72901', '72903', '72904', '72908', '72921', '72923', '72927', '72928', '72932', '72933', '72936', '72937', '72938', '72941', '72943', '72944', '72946', '72947', '72949', '72956', '72958']\n"
     ]
    }
   ],
   "source": [
    "print(sorted(db_district.LZIP.unique()))"
   ]
  },
  {
   "cell_type": "markdown",
   "metadata": {},
   "source": [
    "# Match State \n",
    "To speed up matching"
   ]
  },
  {
   "cell_type": "code",
   "execution_count": 7,
   "metadata": {},
   "outputs": [
    {
     "name": "stdout",
     "output_type": "stream",
     "text": [
      "(1111, 24)\n"
     ]
    }
   ],
   "source": [
    "db_ar = db[db.LSTATE=='AR']\n",
    "print(db_ar.shape)"
   ]
  },
  {
   "cell_type": "markdown",
   "metadata": {},
   "source": [
    "# Normalize sample data\n",
    "normalize an excel file that has school addresses including address, city, state, zip by standardizing on common USPS abbreviations and small caps\n",
    "\n",
    "see https://stackoverflow.com/questions/44725712/replace-function-with-dictionary/44725831#44725831\n",
    "and http://bcdcspatial.blogspot.ru/2012/09/normalize-to-usps-street-abbreviations.html"
   ]
  },
  {
   "cell_type": "code",
   "execution_count": 18,
   "metadata": {},
   "outputs": [
    {
     "name": "stdout",
     "output_type": "stream",
     "text": [
      "1020 W. Holland Avenue. -> 1020 W HOLLAND AVE\n"
     ]
    }
   ],
   "source": [
    "def load_abbreviations(fname='usps.csv'):\n",
    "    \"\"\"\n",
    "    load abbreviation from file fname\n",
    "    return dictinary {pattern : replacement}\n",
    "    \"\"\"\n",
    "    usps = pd.read_csv(fname, index_col='pattern')\n",
    "    return usps.replacement.to_dict()\n",
    "\n",
    "USPS = load_abbreviations('usps.csv')\n",
    "\n",
    "def handle_strings(x, exclude=set(string.punctuation)):\n",
    "    \"\"\"\n",
    "    Helper function to make string all caps and remove punctuation.\n",
    "    \n",
    "    x: any string\n",
    "    \"\"\"\n",
    "    x = ''.join(ch for ch in x if ch not in exclude)\n",
    "    return x\n",
    "\n",
    "def normalizeStreetSuffixes(inputValue,case='u'):\n",
    "        '''\n",
    "        if case=='l', returns lowercase\n",
    "        if case=='u', returns uppercase\n",
    "        else returns proper case\n",
    "        '''\n",
    "        case = case[0].lower()\n",
    "        abbv = USPS\n",
    "        words = inputValue.split()\n",
    "        for i,word in enumerate(words):\n",
    "            w = handle_strings(word.lower())\n",
    "            rep = abbv[w] if w in abbv.keys() else handle_strings(words[i])\n",
    "            words[i] = rep.upper() if case == 'u' else rep.lower() if case == 'l' else (rep[0].upper() + rep[1:])\n",
    "        return ' '.join(words)\n",
    "s = '1020 W. Holland Avenue.'\n",
    "print(\"%s -> %s\" % (s, normalizeStreetSuffixes(s)))"
   ]
  },
  {
   "cell_type": "code",
   "execution_count": 19,
   "metadata": {},
   "outputs": [],
   "source": [
    "df['normAddress'] = df.Address1.map(normalizeStreetSuffixes)"
   ]
  },
  {
   "cell_type": "code",
   "execution_count": 53,
   "metadata": {},
   "outputs": [
    {
     "data": {
      "text/html": [
       "<div>\n",
       "<style scoped>\n",
       "    .dataframe tbody tr th:only-of-type {\n",
       "        vertical-align: middle;\n",
       "    }\n",
       "\n",
       "    .dataframe tbody tr th {\n",
       "        vertical-align: top;\n",
       "    }\n",
       "\n",
       "    .dataframe thead th {\n",
       "        text-align: right;\n",
       "    }\n",
       "</style>\n",
       "<table border=\"1\" class=\"dataframe\">\n",
       "  <thead>\n",
       "    <tr style=\"text-align: right;\">\n",
       "      <th></th>\n",
       "      <th>Original</th>\n",
       "      <th>Normalized</th>\n",
       "    </tr>\n",
       "  </thead>\n",
       "  <tbody>\n",
       "    <tr>\n",
       "      <th>0</th>\n",
       "      <td>512 Pine Street</td>\n",
       "      <td>512 PNE ST</td>\n",
       "    </tr>\n",
       "    <tr>\n",
       "      <th>1</th>\n",
       "      <td>1020 W. Holland Ave.</td>\n",
       "      <td>1020 W HOLLAND AVE</td>\n",
       "    </tr>\n",
       "    <tr>\n",
       "      <th>2</th>\n",
       "      <td>4900 Dollarway Road</td>\n",
       "      <td>4900 DOLLARWAY RD</td>\n",
       "    </tr>\n",
       "    <tr>\n",
       "      <th>3</th>\n",
       "      <td>4100 Camden Road</td>\n",
       "      <td>4100 CAMDEN RD</td>\n",
       "    </tr>\n",
       "    <tr>\n",
       "      <th>4</th>\n",
       "      <td>219 Main</td>\n",
       "      <td>219 MAIN</td>\n",
       "    </tr>\n",
       "  </tbody>\n",
       "</table>\n",
       "</div>"
      ],
      "text/plain": [
       "               Original          Normalized\n",
       "0       512 Pine Street          512 PNE ST\n",
       "1  1020 W. Holland Ave.  1020 W HOLLAND AVE\n",
       "2   4900 Dollarway Road   4900 DOLLARWAY RD\n",
       "3      4100 Camden Road      4100 CAMDEN RD\n",
       "4              219 Main            219 MAIN"
      ]
     },
     "execution_count": 53,
     "metadata": {},
     "output_type": "execute_result"
    }
   ],
   "source": [
    "df_norm = pd.DataFrame(df.Address1.unique(), columns=['Original'])\n",
    "df_norm['Normalized'] = df_norm.Original.map(normalizeStreetSuffixes)\n",
    "df_norm.to_csv('sample_normalized.csv', index=False)\n",
    "df_norm.head()"
   ]
  },
  {
   "cell_type": "markdown",
   "metadata": {},
   "source": [
    "# Match 1 example"
   ]
  },
  {
   "cell_type": "code",
   "execution_count": 26,
   "metadata": {},
   "outputs": [
    {
     "name": "stdout",
     "output_type": "stream",
     "text": [
      "['un_loc' 'LociD' 'DudeAccountNumber' 'SalesForceAccountID' 'EducationID'\n",
      " 'ClientName' 'SchoolDudeReference' 'PhoneNumber' 'Address1' 'City' 'State'\n",
      " 'ZipCode' 'Country' 'Market' 'Industry' 'StudentCount' 'LocDesc'\n",
      " 'LocSquareFootage' 'LocationZip' 'Zipnum' 'COUNTYNM' 'County' 'Regions'\n",
      " 'normAddress']\n",
      "['NCESSCH' 'NAME' 'OPSTFIPS' 'LSTREE' 'LCITY' 'LSTATE' 'LZIP' 'LZIP4'\n",
      " 'STFIP15' 'CNTY15' 'NMCNTY15' 'LOCALE15' 'LAT1516' 'LON1516' 'CBSA15'\n",
      " 'NMCBSA15' 'CBSATYPE15' 'CSA15' 'NMCSA15' 'NECTA15' 'NMNECTA15' 'CD15'\n",
      " 'SLDL15' 'SLDU15']\n"
     ]
    },
    {
     "data": {
      "text/html": [
       "<div>\n",
       "<style scoped>\n",
       "    .dataframe tbody tr th:only-of-type {\n",
       "        vertical-align: middle;\n",
       "    }\n",
       "\n",
       "    .dataframe tbody tr th {\n",
       "        vertical-align: top;\n",
       "    }\n",
       "\n",
       "    .dataframe thead th {\n",
       "        text-align: right;\n",
       "    }\n",
       "</style>\n",
       "<table border=\"1\" class=\"dataframe\">\n",
       "  <thead>\n",
       "    <tr style=\"text-align: right;\">\n",
       "      <th></th>\n",
       "      <th>un_loc</th>\n",
       "      <th>LociD</th>\n",
       "      <th>DudeAccountNumber</th>\n",
       "      <th>SalesForceAccountID</th>\n",
       "      <th>EducationID</th>\n",
       "      <th>ClientName</th>\n",
       "      <th>SchoolDudeReference</th>\n",
       "      <th>PhoneNumber</th>\n",
       "      <th>Address1</th>\n",
       "      <th>City</th>\n",
       "      <th>...</th>\n",
       "      <th>Industry</th>\n",
       "      <th>StudentCount</th>\n",
       "      <th>LocDesc</th>\n",
       "      <th>LocSquareFootage</th>\n",
       "      <th>LocationZip</th>\n",
       "      <th>Zipnum</th>\n",
       "      <th>COUNTYNM</th>\n",
       "      <th>County</th>\n",
       "      <th>Regions</th>\n",
       "      <th>normAddress</th>\n",
       "    </tr>\n",
       "  </thead>\n",
       "  <tbody>\n",
       "    <tr>\n",
       "      <th>7</th>\n",
       "      <td>397758056-8.0</td>\n",
       "      <td>8.0</td>\n",
       "      <td>397758056</td>\n",
       "      <td>001000000034cEeAAI</td>\n",
       "      <td>500026</td>\n",
       "      <td>Pine Bluff School District</td>\n",
       "      <td>0</td>\n",
       "      <td>(870) 543-4200</td>\n",
       "      <td>512 Pine Street</td>\n",
       "      <td>Pine Bluff</td>\n",
       "      <td>...</td>\n",
       "      <td>Education</td>\n",
       "      <td>4944</td>\n",
       "      <td>Southeast Middle School</td>\n",
       "      <td>79000.0</td>\n",
       "      <td>NaN</td>\n",
       "      <td>71601</td>\n",
       "      <td>Jefferson</td>\n",
       "      <td>Jefferson</td>\n",
       "      <td>Timberlands</td>\n",
       "      <td>512 PNE ST</td>\n",
       "    </tr>\n",
       "  </tbody>\n",
       "</table>\n",
       "<p>1 rows × 24 columns</p>\n",
       "</div>"
      ],
      "text/plain": [
       "          un_loc  LociD  DudeAccountNumber SalesForceAccountID EducationID  \\\n",
       "7  397758056-8.0    8.0          397758056  001000000034cEeAAI      500026   \n",
       "\n",
       "                   ClientName  SchoolDudeReference     PhoneNumber  \\\n",
       "7  Pine Bluff School District                    0  (870) 543-4200   \n",
       "\n",
       "          Address1        City     ...        Industry StudentCount  \\\n",
       "7  512 Pine Street  Pine Bluff     ...       Education         4944   \n",
       "\n",
       "                   LocDesc LocSquareFootage LocationZip  Zipnum   COUNTYNM  \\\n",
       "7  Southeast Middle School          79000.0         NaN   71601  Jefferson   \n",
       "\n",
       "      County      Regions  normAddress  \n",
       "7  Jefferson  Timberlands   512 PNE ST  \n",
       "\n",
       "[1 rows x 24 columns]"
      ]
     },
     "execution_count": 26,
     "metadata": {},
     "output_type": "execute_result"
    }
   ],
   "source": [
    "row_num = 7\n",
    "row = df.iloc[row_num, :]\n",
    "print(df.columns.values)\n",
    "print(db_district.columns.values)\n",
    "df.iloc[row_num : row_num + 1, :]"
   ]
  },
  {
   "cell_type": "code",
   "execution_count": 47,
   "metadata": {},
   "outputs": [
    {
     "data": {
      "text/plain": [
       "'AR WALDRON 72958-1397 1560 W SIXTH ST MIDDLE SCHOOL CAMPUS'"
      ]
     },
     "execution_count": 47,
     "metadata": {},
     "output_type": "execute_result"
    }
   ],
   "source": [
    "def concatenate_sample_fields(row):\n",
    "    return \" \".join([str(row.State), str(row.City), str(row.ZipCode), \n",
    "                     str(row.normAddress), str(row.LocDesc)]).upper()\n",
    "query = concatenate_sample_fields(row)\n",
    "query"
   ]
  },
  {
   "cell_type": "code",
   "execution_count": 54,
   "metadata": {},
   "outputs": [],
   "source": [
    "def concatenate_db_fields(row):\n",
    "    return \" \".join([str(row.LSTATE), str(row.LCITY), str(row.LZIP), \n",
    "                     str(row.LSTREE), str(row.NAME)]).upper()\n",
    "db_rows = [concatenate_db_fields(row) for i, row in db_district.iterrows()]"
   ]
  },
  {
   "cell_type": "code",
   "execution_count": 34,
   "metadata": {},
   "outputs": [
    {
     "name": "stdout",
     "output_type": "stream",
     "text": [
      "AR PINE BLUFF 71601 512 PNE ST SOUTHEAST MIDDLE SCHOOL\n"
     ]
    },
    {
     "data": {
      "text/plain": [
       "[('AR PINE BLUFF 71601 2001 OHIO ST SOUTHEAST MIDDLE SCHOOL', 89),\n",
       " ('AR LITTLE ROCK 72202 907 MARTIN LUTHER KING JR BLVD M.L. KING MAGNET ELEM. SCHOOL',\n",
       "  86),\n",
       " ('AR SILOAM SPRINGS 72761 1500 NORTH MT OLIVE STREET SILOAM SPRINGS INTERMEDIATE SCHO',\n",
       "  86),\n",
       " ('AR PINE BLUFF 71601 711 W 11TH ST PINE BLUFF HIGH SCHOOL', 74),\n",
       " ('AR PINE BLUFF 71602 2602 FLUKER ST ROBERT F MOREHEAD MIDDLE SCHOO', 72)]"
      ]
     },
     "execution_count": 34,
     "metadata": {},
     "output_type": "execute_result"
    }
   ],
   "source": [
    "print(query)\n",
    "process.extractBests(query, db_rows)"
   ]
  },
  {
   "cell_type": "code",
   "execution_count": 36,
   "metadata": {},
   "outputs": [],
   "source": [
    "best = process.extractOne(query, db_rows)"
   ]
  },
  {
   "cell_type": "code",
   "execution_count": 38,
   "metadata": {},
   "outputs": [
    {
     "data": {
      "text/html": [
       "<div>\n",
       "<style scoped>\n",
       "    .dataframe tbody tr th:only-of-type {\n",
       "        vertical-align: middle;\n",
       "    }\n",
       "\n",
       "    .dataframe tbody tr th {\n",
       "        vertical-align: top;\n",
       "    }\n",
       "\n",
       "    .dataframe thead th {\n",
       "        text-align: right;\n",
       "    }\n",
       "</style>\n",
       "<table border=\"1\" class=\"dataframe\">\n",
       "  <thead>\n",
       "    <tr style=\"text-align: right;\">\n",
       "      <th></th>\n",
       "      <th>NCESSCH</th>\n",
       "      <th>NAME</th>\n",
       "      <th>OPSTFIPS</th>\n",
       "      <th>LSTREE</th>\n",
       "      <th>LCITY</th>\n",
       "      <th>LSTATE</th>\n",
       "      <th>LZIP</th>\n",
       "      <th>LZIP4</th>\n",
       "      <th>STFIP15</th>\n",
       "      <th>CNTY15</th>\n",
       "      <th>...</th>\n",
       "      <th>CBSA15</th>\n",
       "      <th>NMCBSA15</th>\n",
       "      <th>CBSATYPE15</th>\n",
       "      <th>CSA15</th>\n",
       "      <th>NMCSA15</th>\n",
       "      <th>NECTA15</th>\n",
       "      <th>NMNECTA15</th>\n",
       "      <th>CD15</th>\n",
       "      <th>SLDL15</th>\n",
       "      <th>SLDU15</th>\n",
       "    </tr>\n",
       "  </thead>\n",
       "  <tbody>\n",
       "    <tr>\n",
       "      <th>4504</th>\n",
       "      <td>50002600870</td>\n",
       "      <td>SOUTHEAST MIDDLE SCHOOL</td>\n",
       "      <td>5</td>\n",
       "      <td>2001 OHIO ST</td>\n",
       "      <td>PINE BLUFF</td>\n",
       "      <td>AR</td>\n",
       "      <td>71601</td>\n",
       "      <td>M</td>\n",
       "      <td>05</td>\n",
       "      <td>05069</td>\n",
       "      <td>...</td>\n",
       "      <td>38220</td>\n",
       "      <td>Pine Bluff, AR</td>\n",
       "      <td>1</td>\n",
       "      <td>340</td>\n",
       "      <td>Little Rock-North Little Rock, AR</td>\n",
       "      <td>N</td>\n",
       "      <td>N</td>\n",
       "      <td>0504</td>\n",
       "      <td>016</td>\n",
       "      <td>025</td>\n",
       "    </tr>\n",
       "  </tbody>\n",
       "</table>\n",
       "<p>1 rows × 24 columns</p>\n",
       "</div>"
      ],
      "text/plain": [
       "          NCESSCH                     NAME  OPSTFIPS        LSTREE  \\\n",
       "4504  50002600870  SOUTHEAST MIDDLE SCHOOL         5  2001 OHIO ST   \n",
       "\n",
       "           LCITY LSTATE   LZIP LZIP4 STFIP15 CNTY15  ...   CBSA15  \\\n",
       "4504  PINE BLUFF     AR  71601     M      05  05069  ...    38220   \n",
       "\n",
       "            NMCBSA15  CBSATYPE15  CSA15                            NMCSA15  \\\n",
       "4504  Pine Bluff, AR           1    340  Little Rock-North Little Rock, AR   \n",
       "\n",
       "     NECTA15 NMNECTA15  CD15 SLDL15 SLDU15  \n",
       "4504       N         N  0504    016    025  \n",
       "\n",
       "[1 rows x 24 columns]"
      ]
     },
     "execution_count": 38,
     "metadata": {},
     "output_type": "execute_result"
    }
   ],
   "source": [
    "idx = db_rows.index(best[0])\n",
    "db_district.iloc[idx:idx+1, :]"
   ]
  },
  {
   "cell_type": "markdown",
   "metadata": {},
   "source": [
    "# Match all samples"
   ]
  },
  {
   "cell_type": "code",
   "execution_count": 51,
   "metadata": {},
   "outputs": [],
   "source": [
    "df['Query'] = [concatenate_sample_fields(row) for i, row in df.iterrows()]\n",
    "df.sort_values('EducationID', inplace=True)"
   ]
  },
  {
   "cell_type": "code",
   "execution_count": 63,
   "metadata": {},
   "outputs": [
    {
     "name": "stdout",
     "output_type": "stream",
     "text": [
      "1836\n"
     ]
    }
   ],
   "source": [
    "result = []\n",
    "prev_eduid = None\n",
    "for un_loc, query, eduid in zip(df.un_loc, df.Query, df.EducationID):\n",
    "    if eduid != prev_eduid:\n",
    "        prev_eduid = eduid\n",
    "        db_district = db[db.NCESSCH.str[0:6]==eduid]\n",
    "        db_rows = [concatenate_db_fields(row) for i, row in db_district.iterrows()]\n",
    "    best = process.extractOne(query, db_rows)\n",
    "    if best is None:\n",
    "        result.append(('', 0, un_loc))\n",
    "    else:\n",
    "        idx = db_rows.index(best[0])\n",
    "        ncessch = db_district.NCESSCH.iloc[idx]\n",
    "        result.append((ncessch, best[1], un_loc))\n",
    "print(len(result))"
   ]
  },
  {
   "cell_type": "code",
   "execution_count": 80,
   "metadata": {},
   "outputs": [
    {
     "name": "stdout",
     "output_type": "stream",
     "text": [
      "(1836, 3)\n"
     ]
    },
    {
     "data": {
      "text/html": [
       "<div>\n",
       "<style scoped>\n",
       "    .dataframe tbody tr th:only-of-type {\n",
       "        vertical-align: middle;\n",
       "    }\n",
       "\n",
       "    .dataframe tbody tr th {\n",
       "        vertical-align: top;\n",
       "    }\n",
       "\n",
       "    .dataframe thead th {\n",
       "        text-align: right;\n",
       "    }\n",
       "</style>\n",
       "<table border=\"1\" class=\"dataframe\">\n",
       "  <thead>\n",
       "    <tr style=\"text-align: right;\">\n",
       "      <th></th>\n",
       "      <th>NCESSCH</th>\n",
       "      <th>Score</th>\n",
       "      <th>un_loc</th>\n",
       "    </tr>\n",
       "  </thead>\n",
       "  <tbody>\n",
       "    <tr>\n",
       "      <th>0</th>\n",
       "      <td>50002600867</td>\n",
       "      <td>88</td>\n",
       "      <td>397758056-9.0</td>\n",
       "    </tr>\n",
       "    <tr>\n",
       "      <th>1</th>\n",
       "      <td>50002601338</td>\n",
       "      <td>87</td>\n",
       "      <td>397758056-10.0</td>\n",
       "    </tr>\n",
       "    <tr>\n",
       "      <th>2</th>\n",
       "      <td>50002601404</td>\n",
       "      <td>83</td>\n",
       "      <td>397758056-7.0</td>\n",
       "    </tr>\n",
       "    <tr>\n",
       "      <th>3</th>\n",
       "      <td>50002600857</td>\n",
       "      <td>86</td>\n",
       "      <td>397758056-15.0</td>\n",
       "    </tr>\n",
       "    <tr>\n",
       "      <th>4</th>\n",
       "      <td>50002600871</td>\n",
       "      <td>89</td>\n",
       "      <td>397758056-6.0</td>\n",
       "    </tr>\n",
       "  </tbody>\n",
       "</table>\n",
       "</div>"
      ],
      "text/plain": [
       "       NCESSCH  Score          un_loc\n",
       "0  50002600867     88   397758056-9.0\n",
       "1  50002601338     87  397758056-10.0\n",
       "2  50002601404     83   397758056-7.0\n",
       "3  50002600857     86  397758056-15.0\n",
       "4  50002600871     89   397758056-6.0"
      ]
     },
     "execution_count": 80,
     "metadata": {},
     "output_type": "execute_result"
    }
   ],
   "source": [
    "df_res = pd.DataFrame(result, columns=['NCESSCH', 'Score', 'un_loc'])\n",
    "print(df_res.shape)\n",
    "df_res.head()"
   ]
  },
  {
   "cell_type": "code",
   "execution_count": 81,
   "metadata": {},
   "outputs": [
    {
     "name": "stdout",
     "output_type": "stream",
     "text": [
      "0\n"
     ]
    },
    {
     "data": {
      "text/plain": [
       "(array([ 17,  78, 176, 131, 232, 272, 382, 407,  82,  59]),\n",
       " array([  45. ,   50.5,   56. ,   61.5,   67. ,   72.5,   78. ,   83.5,\n",
       "          89. ,   94.5,  100. ]))"
      ]
     },
     "execution_count": 81,
     "metadata": {},
     "output_type": "execute_result"
    }
   ],
   "source": [
    "print((df_res.Score==0).sum())\n",
    "np.histogram(df_res.Score)"
   ]
  },
  {
   "cell_type": "code",
   "execution_count": 82,
   "metadata": {},
   "outputs": [
    {
     "name": "stdout",
     "output_type": "stream",
     "text": [
      "(1836, 48)\n"
     ]
    },
    {
     "data": {
      "text/html": [
       "<div>\n",
       "<style scoped>\n",
       "    .dataframe tbody tr th:only-of-type {\n",
       "        vertical-align: middle;\n",
       "    }\n",
       "\n",
       "    .dataframe tbody tr th {\n",
       "        vertical-align: top;\n",
       "    }\n",
       "\n",
       "    .dataframe thead th {\n",
       "        text-align: right;\n",
       "    }\n",
       "</style>\n",
       "<table border=\"1\" class=\"dataframe\">\n",
       "  <thead>\n",
       "    <tr style=\"text-align: right;\">\n",
       "      <th></th>\n",
       "      <th>NCESSCH</th>\n",
       "      <th>Score</th>\n",
       "      <th>un_loc</th>\n",
       "      <th>LociD</th>\n",
       "      <th>DudeAccountNumber</th>\n",
       "      <th>SalesForceAccountID</th>\n",
       "      <th>EducationID</th>\n",
       "      <th>ClientName</th>\n",
       "      <th>SchoolDudeReference</th>\n",
       "      <th>PhoneNumber</th>\n",
       "      <th>...</th>\n",
       "      <th>CBSA15</th>\n",
       "      <th>NMCBSA15</th>\n",
       "      <th>CBSATYPE15</th>\n",
       "      <th>CSA15</th>\n",
       "      <th>NMCSA15</th>\n",
       "      <th>NECTA15</th>\n",
       "      <th>NMNECTA15</th>\n",
       "      <th>CD15</th>\n",
       "      <th>SLDL15</th>\n",
       "      <th>SLDU15</th>\n",
       "    </tr>\n",
       "  </thead>\n",
       "  <tbody>\n",
       "    <tr>\n",
       "      <th>0</th>\n",
       "      <td>50002600867</td>\n",
       "      <td>88</td>\n",
       "      <td>397758056-9.0</td>\n",
       "      <td>9.0</td>\n",
       "      <td>397758056</td>\n",
       "      <td>001000000034cEeAAI</td>\n",
       "      <td>500026</td>\n",
       "      <td>Pine Bluff School District</td>\n",
       "      <td>0</td>\n",
       "      <td>(870) 543-4200</td>\n",
       "      <td>...</td>\n",
       "      <td>38220</td>\n",
       "      <td>Pine Bluff, AR</td>\n",
       "      <td>1</td>\n",
       "      <td>340</td>\n",
       "      <td>Little Rock-North Little Rock, AR</td>\n",
       "      <td>N</td>\n",
       "      <td>N</td>\n",
       "      <td>0504</td>\n",
       "      <td>017</td>\n",
       "      <td>025</td>\n",
       "    </tr>\n",
       "    <tr>\n",
       "      <th>1</th>\n",
       "      <td>50002601338</td>\n",
       "      <td>87</td>\n",
       "      <td>397758056-10.0</td>\n",
       "      <td>10.0</td>\n",
       "      <td>397758056</td>\n",
       "      <td>001000000034cEeAAI</td>\n",
       "      <td>500026</td>\n",
       "      <td>Pine Bluff School District</td>\n",
       "      <td>0</td>\n",
       "      <td>(870) 543-4200</td>\n",
       "      <td>...</td>\n",
       "      <td>38220</td>\n",
       "      <td>Pine Bluff, AR</td>\n",
       "      <td>1</td>\n",
       "      <td>340</td>\n",
       "      <td>Little Rock-North Little Rock, AR</td>\n",
       "      <td>N</td>\n",
       "      <td>N</td>\n",
       "      <td>0504</td>\n",
       "      <td>016</td>\n",
       "      <td>025</td>\n",
       "    </tr>\n",
       "    <tr>\n",
       "      <th>2</th>\n",
       "      <td>50002601404</td>\n",
       "      <td>83</td>\n",
       "      <td>397758056-7.0</td>\n",
       "      <td>7.0</td>\n",
       "      <td>397758056</td>\n",
       "      <td>001000000034cEeAAI</td>\n",
       "      <td>500026</td>\n",
       "      <td>Pine Bluff School District</td>\n",
       "      <td>0</td>\n",
       "      <td>(870) 543-4200</td>\n",
       "      <td>...</td>\n",
       "      <td>38220</td>\n",
       "      <td>Pine Bluff, AR</td>\n",
       "      <td>1</td>\n",
       "      <td>340</td>\n",
       "      <td>Little Rock-North Little Rock, AR</td>\n",
       "      <td>N</td>\n",
       "      <td>N</td>\n",
       "      <td>0504</td>\n",
       "      <td>016</td>\n",
       "      <td>027</td>\n",
       "    </tr>\n",
       "    <tr>\n",
       "      <th>3</th>\n",
       "      <td>50002600857</td>\n",
       "      <td>86</td>\n",
       "      <td>397758056-15.0</td>\n",
       "      <td>15.0</td>\n",
       "      <td>397758056</td>\n",
       "      <td>001000000034cEeAAI</td>\n",
       "      <td>500026</td>\n",
       "      <td>Pine Bluff School District</td>\n",
       "      <td>0</td>\n",
       "      <td>(870) 543-4200</td>\n",
       "      <td>...</td>\n",
       "      <td>38220</td>\n",
       "      <td>Pine Bluff, AR</td>\n",
       "      <td>1</td>\n",
       "      <td>340</td>\n",
       "      <td>Little Rock-North Little Rock, AR</td>\n",
       "      <td>N</td>\n",
       "      <td>N</td>\n",
       "      <td>0504</td>\n",
       "      <td>016</td>\n",
       "      <td>025</td>\n",
       "    </tr>\n",
       "    <tr>\n",
       "      <th>4</th>\n",
       "      <td>50002600871</td>\n",
       "      <td>89</td>\n",
       "      <td>397758056-6.0</td>\n",
       "      <td>6.0</td>\n",
       "      <td>397758056</td>\n",
       "      <td>001000000034cEeAAI</td>\n",
       "      <td>500026</td>\n",
       "      <td>Pine Bluff School District</td>\n",
       "      <td>0</td>\n",
       "      <td>(870) 543-4200</td>\n",
       "      <td>...</td>\n",
       "      <td>38220</td>\n",
       "      <td>Pine Bluff, AR</td>\n",
       "      <td>1</td>\n",
       "      <td>340</td>\n",
       "      <td>Little Rock-North Little Rock, AR</td>\n",
       "      <td>N</td>\n",
       "      <td>N</td>\n",
       "      <td>0504</td>\n",
       "      <td>016</td>\n",
       "      <td>025</td>\n",
       "    </tr>\n",
       "  </tbody>\n",
       "</table>\n",
       "<p>5 rows × 48 columns</p>\n",
       "</div>"
      ],
      "text/plain": [
       "       NCESSCH  Score          un_loc  LociD  DudeAccountNumber  \\\n",
       "0  50002600867     88   397758056-9.0    9.0          397758056   \n",
       "1  50002601338     87  397758056-10.0   10.0          397758056   \n",
       "2  50002601404     83   397758056-7.0    7.0          397758056   \n",
       "3  50002600857     86  397758056-15.0   15.0          397758056   \n",
       "4  50002600871     89   397758056-6.0    6.0          397758056   \n",
       "\n",
       "  SalesForceAccountID EducationID                  ClientName  \\\n",
       "0  001000000034cEeAAI      500026  Pine Bluff School District   \n",
       "1  001000000034cEeAAI      500026  Pine Bluff School District   \n",
       "2  001000000034cEeAAI      500026  Pine Bluff School District   \n",
       "3  001000000034cEeAAI      500026  Pine Bluff School District   \n",
       "4  001000000034cEeAAI      500026  Pine Bluff School District   \n",
       "\n",
       "   SchoolDudeReference     PhoneNumber   ...   CBSA15        NMCBSA15  \\\n",
       "0                    0  (870) 543-4200   ...    38220  Pine Bluff, AR   \n",
       "1                    0  (870) 543-4200   ...    38220  Pine Bluff, AR   \n",
       "2                    0  (870) 543-4200   ...    38220  Pine Bluff, AR   \n",
       "3                    0  (870) 543-4200   ...    38220  Pine Bluff, AR   \n",
       "4                    0  (870) 543-4200   ...    38220  Pine Bluff, AR   \n",
       "\n",
       "  CBSATYPE15 CSA15                            NMCSA15 NECTA15 NMNECTA15  CD15  \\\n",
       "0          1   340  Little Rock-North Little Rock, AR       N         N  0504   \n",
       "1          1   340  Little Rock-North Little Rock, AR       N         N  0504   \n",
       "2          1   340  Little Rock-North Little Rock, AR       N         N  0504   \n",
       "3          1   340  Little Rock-North Little Rock, AR       N         N  0504   \n",
       "4          1   340  Little Rock-North Little Rock, AR       N         N  0504   \n",
       "\n",
       "  SLDL15  SLDU15  \n",
       "0    017     025  \n",
       "1    016     025  \n",
       "2    016     027  \n",
       "3    016     025  \n",
       "4    016     025  \n",
       "\n",
       "[5 rows x 48 columns]"
      ]
     },
     "execution_count": 82,
     "metadata": {},
     "output_type": "execute_result"
    }
   ],
   "source": [
    "df_res = pd.merge(df_res, df.drop(['normAddress', 'Query'], axis=1), on='un_loc', how='left')\n",
    "df_res = pd.merge(df_res, db, on='NCESSCH', how='left')\n",
    "print(df_res.shape)\n",
    "df_res.to_csv('sample_match.csv', index=False)\n",
    "df_res.head()"
   ]
  }
 ],
 "metadata": {
  "kernelspec": {
   "display_name": "Python 3",
   "language": "python",
   "name": "python3"
  },
  "language_info": {
   "codemirror_mode": {
    "name": "ipython",
    "version": 3
   },
   "file_extension": ".py",
   "mimetype": "text/x-python",
   "name": "python",
   "nbconvert_exporter": "python",
   "pygments_lexer": "ipython3",
   "version": "3.5.2"
  },
  "toc": {
   "colors": {
    "hover_highlight": "#DAA520",
    "running_highlight": "#FF0000",
    "selected_highlight": "#FFD700"
   },
   "moveMenuLeft": true,
   "nav_menu": {
    "height": "84px",
    "width": "252px"
   },
   "navigate_menu": true,
   "number_sections": true,
   "sideBar": true,
   "threshold": 4,
   "toc_cell": false,
   "toc_section_display": "block",
   "toc_window_display": true,
   "widenNotebook": false
  }
 },
 "nbformat": 4,
 "nbformat_minor": 2
}
